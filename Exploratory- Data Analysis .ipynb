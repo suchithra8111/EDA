{
 "cells": [
  {
   "cell_type": "markdown",
   "id": "5d93e36d-488b-4e0d-b844-5a5193fe9334",
   "metadata": {},
   "source": [
    " # Exploratory Data Analysis (EDA)"
   ]
  },
  {
   "cell_type": "markdown",
   "id": "31a553b5-f76f-4fb9-908d-b47a0d6ad53c",
   "metadata": {},
   "source": [
    "\n",
    "### Providing a dataset of employees working in ABC company. It consists of 458 rows and 9 columns. The company needs the detailed report and explanation of their employees in each team, also need to identify the following\r",
    " \n"
   ]
  },
  {
   "cell_type": "markdown",
   "id": "f9370814-5bc6-460f-87d7-2d11b1de984f",
   "metadata": {},
   "source": [
    "### Import necessary modules"
   ]
  },
  {
   "cell_type": "code",
   "execution_count": 128,
   "id": "e65f29ba-5dc3-4fa4-9450-cfe3d74d7e61",
   "metadata": {},
   "outputs": [],
   "source": [
    "import pandas as pd\n",
    "import numpy as np\n",
    "import seaborn as sns\n",
    "import matplotlib.pyplot as plt\n"
   ]
  },
  {
   "cell_type": "markdown",
   "id": "6684aa9d-a429-457a-b64c-319ee5a9a9bb",
   "metadata": {},
   "source": [
    "### Creating a data frame from a csv file using pd.read_csv(\"filename.csv\")"
   ]
  },
  {
   "cell_type": "code",
   "execution_count": 129,
   "id": "892fad96-ced1-4951-ac20-255dc4a522d0",
   "metadata": {},
   "outputs": [
    {
     "data": {
      "text/html": [
       "<div>\n",
       "<style scoped>\n",
       "    .dataframe tbody tr th:only-of-type {\n",
       "        vertical-align: middle;\n",
       "    }\n",
       "\n",
       "    .dataframe tbody tr th {\n",
       "        vertical-align: top;\n",
       "    }\n",
       "\n",
       "    .dataframe thead th {\n",
       "        text-align: right;\n",
       "    }\n",
       "</style>\n",
       "<table border=\"1\" class=\"dataframe\">\n",
       "  <thead>\n",
       "    <tr style=\"text-align: right;\">\n",
       "      <th></th>\n",
       "      <th>Name</th>\n",
       "      <th>Team</th>\n",
       "      <th>Number</th>\n",
       "      <th>Position</th>\n",
       "      <th>Age</th>\n",
       "      <th>Height</th>\n",
       "      <th>Weight</th>\n",
       "      <th>College</th>\n",
       "      <th>Salary</th>\n",
       "    </tr>\n",
       "  </thead>\n",
       "  <tbody>\n",
       "    <tr>\n",
       "      <th>0</th>\n",
       "      <td>Avery Bradley</td>\n",
       "      <td>Boston Celtics</td>\n",
       "      <td>0</td>\n",
       "      <td>PG</td>\n",
       "      <td>25</td>\n",
       "      <td>06-Feb</td>\n",
       "      <td>180</td>\n",
       "      <td>Texas</td>\n",
       "      <td>7730337.0</td>\n",
       "    </tr>\n",
       "    <tr>\n",
       "      <th>1</th>\n",
       "      <td>Jae Crowder</td>\n",
       "      <td>Boston Celtics</td>\n",
       "      <td>99</td>\n",
       "      <td>SF</td>\n",
       "      <td>25</td>\n",
       "      <td>06-Jun</td>\n",
       "      <td>235</td>\n",
       "      <td>Marquette</td>\n",
       "      <td>6796117.0</td>\n",
       "    </tr>\n",
       "    <tr>\n",
       "      <th>2</th>\n",
       "      <td>John Holland</td>\n",
       "      <td>Boston Celtics</td>\n",
       "      <td>30</td>\n",
       "      <td>SG</td>\n",
       "      <td>27</td>\n",
       "      <td>06-May</td>\n",
       "      <td>205</td>\n",
       "      <td>Boston University</td>\n",
       "      <td>NaN</td>\n",
       "    </tr>\n",
       "    <tr>\n",
       "      <th>3</th>\n",
       "      <td>R.J. Hunter</td>\n",
       "      <td>Boston Celtics</td>\n",
       "      <td>28</td>\n",
       "      <td>SG</td>\n",
       "      <td>22</td>\n",
       "      <td>06-May</td>\n",
       "      <td>185</td>\n",
       "      <td>Georgia State</td>\n",
       "      <td>1148640.0</td>\n",
       "    </tr>\n",
       "    <tr>\n",
       "      <th>4</th>\n",
       "      <td>Jonas Jerebko</td>\n",
       "      <td>Boston Celtics</td>\n",
       "      <td>8</td>\n",
       "      <td>PF</td>\n",
       "      <td>29</td>\n",
       "      <td>06-Oct</td>\n",
       "      <td>231</td>\n",
       "      <td>NaN</td>\n",
       "      <td>5000000.0</td>\n",
       "    </tr>\n",
       "    <tr>\n",
       "      <th>...</th>\n",
       "      <td>...</td>\n",
       "      <td>...</td>\n",
       "      <td>...</td>\n",
       "      <td>...</td>\n",
       "      <td>...</td>\n",
       "      <td>...</td>\n",
       "      <td>...</td>\n",
       "      <td>...</td>\n",
       "      <td>...</td>\n",
       "    </tr>\n",
       "    <tr>\n",
       "      <th>453</th>\n",
       "      <td>Shelvin Mack</td>\n",
       "      <td>Utah Jazz</td>\n",
       "      <td>8</td>\n",
       "      <td>PG</td>\n",
       "      <td>26</td>\n",
       "      <td>06-Mar</td>\n",
       "      <td>203</td>\n",
       "      <td>Butler</td>\n",
       "      <td>2433333.0</td>\n",
       "    </tr>\n",
       "    <tr>\n",
       "      <th>454</th>\n",
       "      <td>Raul Neto</td>\n",
       "      <td>Utah Jazz</td>\n",
       "      <td>25</td>\n",
       "      <td>PG</td>\n",
       "      <td>24</td>\n",
       "      <td>06-Jan</td>\n",
       "      <td>179</td>\n",
       "      <td>NaN</td>\n",
       "      <td>900000.0</td>\n",
       "    </tr>\n",
       "    <tr>\n",
       "      <th>455</th>\n",
       "      <td>Tibor Pleiss</td>\n",
       "      <td>Utah Jazz</td>\n",
       "      <td>21</td>\n",
       "      <td>C</td>\n",
       "      <td>26</td>\n",
       "      <td>07-Mar</td>\n",
       "      <td>256</td>\n",
       "      <td>NaN</td>\n",
       "      <td>2900000.0</td>\n",
       "    </tr>\n",
       "    <tr>\n",
       "      <th>456</th>\n",
       "      <td>Jeff Withey</td>\n",
       "      <td>Utah Jazz</td>\n",
       "      <td>24</td>\n",
       "      <td>C</td>\n",
       "      <td>26</td>\n",
       "      <td>7-0</td>\n",
       "      <td>231</td>\n",
       "      <td>Kansas</td>\n",
       "      <td>947276.0</td>\n",
       "    </tr>\n",
       "    <tr>\n",
       "      <th>457</th>\n",
       "      <td>Priyanka</td>\n",
       "      <td>Utah Jazz</td>\n",
       "      <td>34</td>\n",
       "      <td>C</td>\n",
       "      <td>25</td>\n",
       "      <td>07-Mar</td>\n",
       "      <td>231</td>\n",
       "      <td>Kansas</td>\n",
       "      <td>947276.0</td>\n",
       "    </tr>\n",
       "  </tbody>\n",
       "</table>\n",
       "<p>458 rows × 9 columns</p>\n",
       "</div>"
      ],
      "text/plain": [
       "              Name            Team  Number Position  Age  Height  Weight  \\\n",
       "0    Avery Bradley  Boston Celtics       0       PG   25  06-Feb     180   \n",
       "1      Jae Crowder  Boston Celtics      99       SF   25  06-Jun     235   \n",
       "2     John Holland  Boston Celtics      30       SG   27  06-May     205   \n",
       "3      R.J. Hunter  Boston Celtics      28       SG   22  06-May     185   \n",
       "4    Jonas Jerebko  Boston Celtics       8       PF   29  06-Oct     231   \n",
       "..             ...             ...     ...      ...  ...     ...     ...   \n",
       "453   Shelvin Mack       Utah Jazz       8       PG   26  06-Mar     203   \n",
       "454      Raul Neto       Utah Jazz      25       PG   24  06-Jan     179   \n",
       "455   Tibor Pleiss       Utah Jazz      21        C   26  07-Mar     256   \n",
       "456    Jeff Withey       Utah Jazz      24        C   26     7-0     231   \n",
       "457       Priyanka       Utah Jazz      34        C   25  07-Mar     231   \n",
       "\n",
       "               College     Salary  \n",
       "0                Texas  7730337.0  \n",
       "1            Marquette  6796117.0  \n",
       "2    Boston University        NaN  \n",
       "3        Georgia State  1148640.0  \n",
       "4                  NaN  5000000.0  \n",
       "..                 ...        ...  \n",
       "453             Butler  2433333.0  \n",
       "454                NaN   900000.0  \n",
       "455                NaN  2900000.0  \n",
       "456             Kansas   947276.0  \n",
       "457             Kansas   947276.0  \n",
       "\n",
       "[458 rows x 9 columns]"
      ]
     },
     "execution_count": 129,
     "metadata": {},
     "output_type": "execute_result"
    }
   ],
   "source": [
    "df=pd.read_csv('Dataset.csv')\n",
    "df\n"
   ]
  },
  {
   "cell_type": "markdown",
   "id": "ce31cb83-a911-479e-8fd5-0be055cdbb42",
   "metadata": {},
   "source": [
    "### Data Preprocessing\r\n"
   ]
  },
  {
   "cell_type": "code",
   "execution_count": 92,
   "id": "d169eea8-1cf2-494e-9ee9-828c7eb9b484",
   "metadata": {},
   "outputs": [
    {
     "data": {
      "text/html": [
       "<div>\n",
       "<style scoped>\n",
       "    .dataframe tbody tr th:only-of-type {\n",
       "        vertical-align: middle;\n",
       "    }\n",
       "\n",
       "    .dataframe tbody tr th {\n",
       "        vertical-align: top;\n",
       "    }\n",
       "\n",
       "    .dataframe thead th {\n",
       "        text-align: right;\n",
       "    }\n",
       "</style>\n",
       "<table border=\"1\" class=\"dataframe\">\n",
       "  <thead>\n",
       "    <tr style=\"text-align: right;\">\n",
       "      <th></th>\n",
       "      <th>Name</th>\n",
       "      <th>Team</th>\n",
       "      <th>Number</th>\n",
       "      <th>Position</th>\n",
       "      <th>Age</th>\n",
       "      <th>Height</th>\n",
       "      <th>Weight</th>\n",
       "      <th>College</th>\n",
       "      <th>Salary</th>\n",
       "    </tr>\n",
       "  </thead>\n",
       "  <tbody>\n",
       "    <tr>\n",
       "      <th>0</th>\n",
       "      <td>Avery Bradley</td>\n",
       "      <td>Boston Celtics</td>\n",
       "      <td>0</td>\n",
       "      <td>PG</td>\n",
       "      <td>25</td>\n",
       "      <td>06-Feb</td>\n",
       "      <td>180</td>\n",
       "      <td>Texas</td>\n",
       "      <td>7730337.0</td>\n",
       "    </tr>\n",
       "    <tr>\n",
       "      <th>1</th>\n",
       "      <td>Jae Crowder</td>\n",
       "      <td>Boston Celtics</td>\n",
       "      <td>99</td>\n",
       "      <td>SF</td>\n",
       "      <td>25</td>\n",
       "      <td>06-Jun</td>\n",
       "      <td>235</td>\n",
       "      <td>Marquette</td>\n",
       "      <td>6796117.0</td>\n",
       "    </tr>\n",
       "    <tr>\n",
       "      <th>2</th>\n",
       "      <td>John Holland</td>\n",
       "      <td>Boston Celtics</td>\n",
       "      <td>30</td>\n",
       "      <td>SG</td>\n",
       "      <td>27</td>\n",
       "      <td>06-May</td>\n",
       "      <td>205</td>\n",
       "      <td>Boston University</td>\n",
       "      <td>NaN</td>\n",
       "    </tr>\n",
       "    <tr>\n",
       "      <th>3</th>\n",
       "      <td>R.J. Hunter</td>\n",
       "      <td>Boston Celtics</td>\n",
       "      <td>28</td>\n",
       "      <td>SG</td>\n",
       "      <td>22</td>\n",
       "      <td>06-May</td>\n",
       "      <td>185</td>\n",
       "      <td>Georgia State</td>\n",
       "      <td>1148640.0</td>\n",
       "    </tr>\n",
       "    <tr>\n",
       "      <th>4</th>\n",
       "      <td>Jonas Jerebko</td>\n",
       "      <td>Boston Celtics</td>\n",
       "      <td>8</td>\n",
       "      <td>PF</td>\n",
       "      <td>29</td>\n",
       "      <td>06-Oct</td>\n",
       "      <td>231</td>\n",
       "      <td>NaN</td>\n",
       "      <td>5000000.0</td>\n",
       "    </tr>\n",
       "  </tbody>\n",
       "</table>\n",
       "</div>"
      ],
      "text/plain": [
       "            Name            Team  Number Position  Age  Height  Weight  \\\n",
       "0  Avery Bradley  Boston Celtics       0       PG   25  06-Feb     180   \n",
       "1    Jae Crowder  Boston Celtics      99       SF   25  06-Jun     235   \n",
       "2   John Holland  Boston Celtics      30       SG   27  06-May     205   \n",
       "3    R.J. Hunter  Boston Celtics      28       SG   22  06-May     185   \n",
       "4  Jonas Jerebko  Boston Celtics       8       PF   29  06-Oct     231   \n",
       "\n",
       "             College     Salary  \n",
       "0              Texas  7730337.0  \n",
       "1          Marquette  6796117.0  \n",
       "2  Boston University        NaN  \n",
       "3      Georgia State  1148640.0  \n",
       "4                NaN  5000000.0  "
      ]
     },
     "execution_count": 92,
     "metadata": {},
     "output_type": "execute_result"
    }
   ],
   "source": [
    "df.head()"
   ]
  },
  {
   "cell_type": "code",
   "execution_count": 93,
   "id": "184ddbe0-3fe3-4668-a5d1-ecab6956b006",
   "metadata": {},
   "outputs": [
    {
     "data": {
      "text/html": [
       "<div>\n",
       "<style scoped>\n",
       "    .dataframe tbody tr th:only-of-type {\n",
       "        vertical-align: middle;\n",
       "    }\n",
       "\n",
       "    .dataframe tbody tr th {\n",
       "        vertical-align: top;\n",
       "    }\n",
       "\n",
       "    .dataframe thead th {\n",
       "        text-align: right;\n",
       "    }\n",
       "</style>\n",
       "<table border=\"1\" class=\"dataframe\">\n",
       "  <thead>\n",
       "    <tr style=\"text-align: right;\">\n",
       "      <th></th>\n",
       "      <th>Name</th>\n",
       "      <th>Team</th>\n",
       "      <th>Number</th>\n",
       "      <th>Position</th>\n",
       "      <th>Age</th>\n",
       "      <th>Height</th>\n",
       "      <th>Weight</th>\n",
       "      <th>College</th>\n",
       "      <th>Salary</th>\n",
       "    </tr>\n",
       "  </thead>\n",
       "  <tbody>\n",
       "    <tr>\n",
       "      <th>453</th>\n",
       "      <td>Shelvin Mack</td>\n",
       "      <td>Utah Jazz</td>\n",
       "      <td>8</td>\n",
       "      <td>PG</td>\n",
       "      <td>26</td>\n",
       "      <td>06-Mar</td>\n",
       "      <td>203</td>\n",
       "      <td>Butler</td>\n",
       "      <td>2433333.0</td>\n",
       "    </tr>\n",
       "    <tr>\n",
       "      <th>454</th>\n",
       "      <td>Raul Neto</td>\n",
       "      <td>Utah Jazz</td>\n",
       "      <td>25</td>\n",
       "      <td>PG</td>\n",
       "      <td>24</td>\n",
       "      <td>06-Jan</td>\n",
       "      <td>179</td>\n",
       "      <td>NaN</td>\n",
       "      <td>900000.0</td>\n",
       "    </tr>\n",
       "    <tr>\n",
       "      <th>455</th>\n",
       "      <td>Tibor Pleiss</td>\n",
       "      <td>Utah Jazz</td>\n",
       "      <td>21</td>\n",
       "      <td>C</td>\n",
       "      <td>26</td>\n",
       "      <td>07-Mar</td>\n",
       "      <td>256</td>\n",
       "      <td>NaN</td>\n",
       "      <td>2900000.0</td>\n",
       "    </tr>\n",
       "    <tr>\n",
       "      <th>456</th>\n",
       "      <td>Jeff Withey</td>\n",
       "      <td>Utah Jazz</td>\n",
       "      <td>24</td>\n",
       "      <td>C</td>\n",
       "      <td>26</td>\n",
       "      <td>7-0</td>\n",
       "      <td>231</td>\n",
       "      <td>Kansas</td>\n",
       "      <td>947276.0</td>\n",
       "    </tr>\n",
       "    <tr>\n",
       "      <th>457</th>\n",
       "      <td>Priyanka</td>\n",
       "      <td>Utah Jazz</td>\n",
       "      <td>34</td>\n",
       "      <td>C</td>\n",
       "      <td>25</td>\n",
       "      <td>07-Mar</td>\n",
       "      <td>231</td>\n",
       "      <td>Kansas</td>\n",
       "      <td>947276.0</td>\n",
       "    </tr>\n",
       "  </tbody>\n",
       "</table>\n",
       "</div>"
      ],
      "text/plain": [
       "             Name       Team  Number Position  Age  Height  Weight College  \\\n",
       "453  Shelvin Mack  Utah Jazz       8       PG   26  06-Mar     203  Butler   \n",
       "454     Raul Neto  Utah Jazz      25       PG   24  06-Jan     179     NaN   \n",
       "455  Tibor Pleiss  Utah Jazz      21        C   26  07-Mar     256     NaN   \n",
       "456   Jeff Withey  Utah Jazz      24        C   26     7-0     231  Kansas   \n",
       "457      Priyanka  Utah Jazz      34        C   25  07-Mar     231  Kansas   \n",
       "\n",
       "        Salary  \n",
       "453  2433333.0  \n",
       "454   900000.0  \n",
       "455  2900000.0  \n",
       "456   947276.0  \n",
       "457   947276.0  "
      ]
     },
     "execution_count": 93,
     "metadata": {},
     "output_type": "execute_result"
    }
   ],
   "source": [
    "df.tail()"
   ]
  },
  {
   "cell_type": "code",
   "execution_count": 94,
   "id": "1046730b-a64c-4623-82f0-cb19face4cd5",
   "metadata": {},
   "outputs": [
    {
     "data": {
      "text/html": [
       "<div>\n",
       "<style scoped>\n",
       "    .dataframe tbody tr th:only-of-type {\n",
       "        vertical-align: middle;\n",
       "    }\n",
       "\n",
       "    .dataframe tbody tr th {\n",
       "        vertical-align: top;\n",
       "    }\n",
       "\n",
       "    .dataframe thead th {\n",
       "        text-align: right;\n",
       "    }\n",
       "</style>\n",
       "<table border=\"1\" class=\"dataframe\">\n",
       "  <thead>\n",
       "    <tr style=\"text-align: right;\">\n",
       "      <th></th>\n",
       "      <th>Name</th>\n",
       "      <th>Team</th>\n",
       "      <th>Number</th>\n",
       "      <th>Position</th>\n",
       "      <th>Age</th>\n",
       "      <th>Height</th>\n",
       "      <th>Weight</th>\n",
       "      <th>College</th>\n",
       "      <th>Salary</th>\n",
       "    </tr>\n",
       "  </thead>\n",
       "  <tbody>\n",
       "    <tr>\n",
       "      <th>count</th>\n",
       "      <td>458</td>\n",
       "      <td>458</td>\n",
       "      <td>458.000000</td>\n",
       "      <td>458</td>\n",
       "      <td>458.000000</td>\n",
       "      <td>458</td>\n",
       "      <td>458.000000</td>\n",
       "      <td>374</td>\n",
       "      <td>4.470000e+02</td>\n",
       "    </tr>\n",
       "    <tr>\n",
       "      <th>unique</th>\n",
       "      <td>458</td>\n",
       "      <td>30</td>\n",
       "      <td>NaN</td>\n",
       "      <td>5</td>\n",
       "      <td>NaN</td>\n",
       "      <td>18</td>\n",
       "      <td>NaN</td>\n",
       "      <td>118</td>\n",
       "      <td>NaN</td>\n",
       "    </tr>\n",
       "    <tr>\n",
       "      <th>top</th>\n",
       "      <td>Avery Bradley</td>\n",
       "      <td>New Orleans Pelicans</td>\n",
       "      <td>NaN</td>\n",
       "      <td>SG</td>\n",
       "      <td>NaN</td>\n",
       "      <td>06-Sep</td>\n",
       "      <td>NaN</td>\n",
       "      <td>Kentucky</td>\n",
       "      <td>NaN</td>\n",
       "    </tr>\n",
       "    <tr>\n",
       "      <th>freq</th>\n",
       "      <td>1</td>\n",
       "      <td>19</td>\n",
       "      <td>NaN</td>\n",
       "      <td>102</td>\n",
       "      <td>NaN</td>\n",
       "      <td>59</td>\n",
       "      <td>NaN</td>\n",
       "      <td>22</td>\n",
       "      <td>NaN</td>\n",
       "    </tr>\n",
       "    <tr>\n",
       "      <th>mean</th>\n",
       "      <td>NaN</td>\n",
       "      <td>NaN</td>\n",
       "      <td>17.713974</td>\n",
       "      <td>NaN</td>\n",
       "      <td>26.934498</td>\n",
       "      <td>NaN</td>\n",
       "      <td>221.543668</td>\n",
       "      <td>NaN</td>\n",
       "      <td>4.833970e+06</td>\n",
       "    </tr>\n",
       "    <tr>\n",
       "      <th>std</th>\n",
       "      <td>NaN</td>\n",
       "      <td>NaN</td>\n",
       "      <td>15.966837</td>\n",
       "      <td>NaN</td>\n",
       "      <td>4.400128</td>\n",
       "      <td>NaN</td>\n",
       "      <td>26.343200</td>\n",
       "      <td>NaN</td>\n",
       "      <td>5.226620e+06</td>\n",
       "    </tr>\n",
       "    <tr>\n",
       "      <th>min</th>\n",
       "      <td>NaN</td>\n",
       "      <td>NaN</td>\n",
       "      <td>0.000000</td>\n",
       "      <td>NaN</td>\n",
       "      <td>19.000000</td>\n",
       "      <td>NaN</td>\n",
       "      <td>161.000000</td>\n",
       "      <td>NaN</td>\n",
       "      <td>3.088800e+04</td>\n",
       "    </tr>\n",
       "    <tr>\n",
       "      <th>25%</th>\n",
       "      <td>NaN</td>\n",
       "      <td>NaN</td>\n",
       "      <td>5.000000</td>\n",
       "      <td>NaN</td>\n",
       "      <td>24.000000</td>\n",
       "      <td>NaN</td>\n",
       "      <td>200.000000</td>\n",
       "      <td>NaN</td>\n",
       "      <td>1.025210e+06</td>\n",
       "    </tr>\n",
       "    <tr>\n",
       "      <th>50%</th>\n",
       "      <td>NaN</td>\n",
       "      <td>NaN</td>\n",
       "      <td>13.000000</td>\n",
       "      <td>NaN</td>\n",
       "      <td>26.000000</td>\n",
       "      <td>NaN</td>\n",
       "      <td>220.000000</td>\n",
       "      <td>NaN</td>\n",
       "      <td>2.836186e+06</td>\n",
       "    </tr>\n",
       "    <tr>\n",
       "      <th>75%</th>\n",
       "      <td>NaN</td>\n",
       "      <td>NaN</td>\n",
       "      <td>25.000000</td>\n",
       "      <td>NaN</td>\n",
       "      <td>30.000000</td>\n",
       "      <td>NaN</td>\n",
       "      <td>240.000000</td>\n",
       "      <td>NaN</td>\n",
       "      <td>6.500000e+06</td>\n",
       "    </tr>\n",
       "    <tr>\n",
       "      <th>max</th>\n",
       "      <td>NaN</td>\n",
       "      <td>NaN</td>\n",
       "      <td>99.000000</td>\n",
       "      <td>NaN</td>\n",
       "      <td>40.000000</td>\n",
       "      <td>NaN</td>\n",
       "      <td>307.000000</td>\n",
       "      <td>NaN</td>\n",
       "      <td>2.500000e+07</td>\n",
       "    </tr>\n",
       "  </tbody>\n",
       "</table>\n",
       "</div>"
      ],
      "text/plain": [
       "                 Name                  Team      Number Position         Age  \\\n",
       "count             458                   458  458.000000      458  458.000000   \n",
       "unique            458                    30         NaN        5         NaN   \n",
       "top     Avery Bradley  New Orleans Pelicans         NaN       SG         NaN   \n",
       "freq                1                    19         NaN      102         NaN   \n",
       "mean              NaN                   NaN   17.713974      NaN   26.934498   \n",
       "std               NaN                   NaN   15.966837      NaN    4.400128   \n",
       "min               NaN                   NaN    0.000000      NaN   19.000000   \n",
       "25%               NaN                   NaN    5.000000      NaN   24.000000   \n",
       "50%               NaN                   NaN   13.000000      NaN   26.000000   \n",
       "75%               NaN                   NaN   25.000000      NaN   30.000000   \n",
       "max               NaN                   NaN   99.000000      NaN   40.000000   \n",
       "\n",
       "        Height      Weight   College        Salary  \n",
       "count      458  458.000000       374  4.470000e+02  \n",
       "unique      18         NaN       118           NaN  \n",
       "top     06-Sep         NaN  Kentucky           NaN  \n",
       "freq        59         NaN        22           NaN  \n",
       "mean       NaN  221.543668       NaN  4.833970e+06  \n",
       "std        NaN   26.343200       NaN  5.226620e+06  \n",
       "min        NaN  161.000000       NaN  3.088800e+04  \n",
       "25%        NaN  200.000000       NaN  1.025210e+06  \n",
       "50%        NaN  220.000000       NaN  2.836186e+06  \n",
       "75%        NaN  240.000000       NaN  6.500000e+06  \n",
       "max        NaN  307.000000       NaN  2.500000e+07  "
      ]
     },
     "execution_count": 94,
     "metadata": {},
     "output_type": "execute_result"
    }
   ],
   "source": [
    "df.describe(include='all')"
   ]
  },
  {
   "cell_type": "code",
   "execution_count": 95,
   "id": "8fd096dd-7f68-44af-9384-15df007eebe4",
   "metadata": {},
   "outputs": [
    {
     "name": "stdout",
     "output_type": "stream",
     "text": [
      "<class 'pandas.core.frame.DataFrame'>\n",
      "RangeIndex: 458 entries, 0 to 457\n",
      "Data columns (total 9 columns):\n",
      " #   Column    Non-Null Count  Dtype  \n",
      "---  ------    --------------  -----  \n",
      " 0   Name      458 non-null    object \n",
      " 1   Team      458 non-null    object \n",
      " 2   Number    458 non-null    int64  \n",
      " 3   Position  458 non-null    object \n",
      " 4   Age       458 non-null    int64  \n",
      " 5   Height    458 non-null    object \n",
      " 6   Weight    458 non-null    int64  \n",
      " 7   College   374 non-null    object \n",
      " 8   Salary    447 non-null    float64\n",
      "dtypes: float64(1), int64(3), object(5)\n",
      "memory usage: 32.3+ KB\n"
     ]
    }
   ],
   "source": [
    "df.info()"
   ]
  },
  {
   "cell_type": "code",
   "execution_count": 96,
   "id": "26a73a1f-a6d4-4cf7-8572-94cf3ce02d6b",
   "metadata": {},
   "outputs": [
    {
     "data": {
      "text/plain": [
       "Name         0\n",
       "Team         0\n",
       "Number       0\n",
       "Position     0\n",
       "Age          0\n",
       "Height       0\n",
       "Weight       0\n",
       "College     84\n",
       "Salary      11\n",
       "dtype: int64"
      ]
     },
     "execution_count": 96,
     "metadata": {},
     "output_type": "execute_result"
    }
   ],
   "source": [
    "df.isnull().sum()"
   ]
  },
  {
   "cell_type": "code",
   "execution_count": 97,
   "id": "10065860-f34f-4552-bc30-908c93053be1",
   "metadata": {},
   "outputs": [
    {
     "data": {
      "text/plain": [
       "0"
      ]
     },
     "execution_count": 97,
     "metadata": {},
     "output_type": "execute_result"
    }
   ],
   "source": [
    "df.duplicated().sum()"
   ]
  },
  {
   "cell_type": "code",
   "execution_count": 98,
   "id": "6ccae2fb-0357-401b-9518-85504212ec61",
   "metadata": {},
   "outputs": [
    {
     "data": {
      "text/plain": [
       "Index(['Name', 'Team', 'Number', 'Position', 'Age', 'Height', 'Weight',\n",
       "       'College', 'Salary'],\n",
       "      dtype='object')"
      ]
     },
     "execution_count": 98,
     "metadata": {},
     "output_type": "execute_result"
    }
   ],
   "source": [
    "df.columns"
   ]
  },
  {
   "cell_type": "code",
   "execution_count": 99,
   "id": "16e7cbd2-03ed-4f25-8e03-a1eb8779a9af",
   "metadata": {},
   "outputs": [
    {
     "data": {
      "text/plain": [
       "College\n",
       "False    374\n",
       "True      84\n",
       "Name: count, dtype: int64"
      ]
     },
     "execution_count": 99,
     "metadata": {},
     "output_type": "execute_result"
    }
   ],
   "source": [
    "df['College'].isnull().value_counts()\n"
   ]
  },
  {
   "cell_type": "code",
   "execution_count": 100,
   "id": "ab6abe45-92a3-4810-8b90-c4bf1a874bd4",
   "metadata": {},
   "outputs": [
    {
     "data": {
      "text/plain": [
       "118"
      ]
     },
     "execution_count": 100,
     "metadata": {},
     "output_type": "execute_result"
    }
   ],
   "source": [
    "df.College.nunique()"
   ]
  },
  {
   "cell_type": "code",
   "execution_count": 101,
   "id": "b27b9e62-bc6b-426f-acb8-b51b2658cac8",
   "metadata": {},
   "outputs": [
    {
     "data": {
      "text/plain": [
       "Salary\n",
       "False    447\n",
       "True      11\n",
       "Name: count, dtype: int64"
      ]
     },
     "execution_count": 101,
     "metadata": {},
     "output_type": "execute_result"
    }
   ],
   "source": [
    "df['Salary'].isnull().value_counts()"
   ]
  },
  {
   "cell_type": "code",
   "execution_count": 102,
   "id": "2488f227-ffab-41de-aec7-34909a05a2c5",
   "metadata": {},
   "outputs": [
    {
     "data": {
      "text/html": [
       "<div>\n",
       "<style scoped>\n",
       "    .dataframe tbody tr th:only-of-type {\n",
       "        vertical-align: middle;\n",
       "    }\n",
       "\n",
       "    .dataframe tbody tr th {\n",
       "        vertical-align: top;\n",
       "    }\n",
       "\n",
       "    .dataframe thead th {\n",
       "        text-align: right;\n",
       "    }\n",
       "</style>\n",
       "<table border=\"1\" class=\"dataframe\">\n",
       "  <thead>\n",
       "    <tr style=\"text-align: right;\">\n",
       "      <th></th>\n",
       "      <th>Name</th>\n",
       "      <th>Team</th>\n",
       "      <th>Number</th>\n",
       "      <th>Position</th>\n",
       "      <th>Age</th>\n",
       "      <th>Height</th>\n",
       "      <th>Weight</th>\n",
       "      <th>College</th>\n",
       "      <th>Salary</th>\n",
       "    </tr>\n",
       "  </thead>\n",
       "  <tbody>\n",
       "    <tr>\n",
       "      <th>2</th>\n",
       "      <td>John Holland</td>\n",
       "      <td>Boston Celtics</td>\n",
       "      <td>30</td>\n",
       "      <td>SG</td>\n",
       "      <td>27</td>\n",
       "      <td>06-May</td>\n",
       "      <td>205</td>\n",
       "      <td>Boston University</td>\n",
       "      <td>NaN</td>\n",
       "    </tr>\n",
       "    <tr>\n",
       "      <th>46</th>\n",
       "      <td>Elton Brand</td>\n",
       "      <td>Philadelphia 76ers</td>\n",
       "      <td>42</td>\n",
       "      <td>PF</td>\n",
       "      <td>37</td>\n",
       "      <td>06-Sep</td>\n",
       "      <td>254</td>\n",
       "      <td>Duke</td>\n",
       "      <td>NaN</td>\n",
       "    </tr>\n",
       "    <tr>\n",
       "      <th>171</th>\n",
       "      <td>Dahntay Jones</td>\n",
       "      <td>Cleveland Cavaliers</td>\n",
       "      <td>30</td>\n",
       "      <td>SG</td>\n",
       "      <td>35</td>\n",
       "      <td>06-Jun</td>\n",
       "      <td>225</td>\n",
       "      <td>Duke</td>\n",
       "      <td>NaN</td>\n",
       "    </tr>\n",
       "    <tr>\n",
       "      <th>264</th>\n",
       "      <td>Jordan Farmar</td>\n",
       "      <td>Memphis Grizzlies</td>\n",
       "      <td>4</td>\n",
       "      <td>PG</td>\n",
       "      <td>29</td>\n",
       "      <td>06-Feb</td>\n",
       "      <td>180</td>\n",
       "      <td>UCLA</td>\n",
       "      <td>NaN</td>\n",
       "    </tr>\n",
       "    <tr>\n",
       "      <th>269</th>\n",
       "      <td>Ray McCallum</td>\n",
       "      <td>Memphis Grizzlies</td>\n",
       "      <td>5</td>\n",
       "      <td>PG</td>\n",
       "      <td>24</td>\n",
       "      <td>06-Mar</td>\n",
       "      <td>190</td>\n",
       "      <td>Detroit</td>\n",
       "      <td>NaN</td>\n",
       "    </tr>\n",
       "    <tr>\n",
       "      <th>270</th>\n",
       "      <td>Xavier Munford</td>\n",
       "      <td>Memphis Grizzlies</td>\n",
       "      <td>14</td>\n",
       "      <td>PG</td>\n",
       "      <td>24</td>\n",
       "      <td>06-Mar</td>\n",
       "      <td>180</td>\n",
       "      <td>Rhode Island</td>\n",
       "      <td>NaN</td>\n",
       "    </tr>\n",
       "    <tr>\n",
       "      <th>273</th>\n",
       "      <td>Alex Stepheson</td>\n",
       "      <td>Memphis Grizzlies</td>\n",
       "      <td>35</td>\n",
       "      <td>PF</td>\n",
       "      <td>28</td>\n",
       "      <td>06-Oct</td>\n",
       "      <td>270</td>\n",
       "      <td>USC</td>\n",
       "      <td>NaN</td>\n",
       "    </tr>\n",
       "    <tr>\n",
       "      <th>350</th>\n",
       "      <td>Briante Weber</td>\n",
       "      <td>Miami Heat</td>\n",
       "      <td>12</td>\n",
       "      <td>PG</td>\n",
       "      <td>23</td>\n",
       "      <td>06-Feb</td>\n",
       "      <td>165</td>\n",
       "      <td>Virginia Commonwealth</td>\n",
       "      <td>NaN</td>\n",
       "    </tr>\n",
       "    <tr>\n",
       "      <th>353</th>\n",
       "      <td>Dorell Wright</td>\n",
       "      <td>Miami Heat</td>\n",
       "      <td>11</td>\n",
       "      <td>SF</td>\n",
       "      <td>30</td>\n",
       "      <td>06-Sep</td>\n",
       "      <td>205</td>\n",
       "      <td>NaN</td>\n",
       "      <td>NaN</td>\n",
       "    </tr>\n",
       "    <tr>\n",
       "      <th>397</th>\n",
       "      <td>Axel Toupane</td>\n",
       "      <td>Denver Nuggets</td>\n",
       "      <td>6</td>\n",
       "      <td>SG</td>\n",
       "      <td>23</td>\n",
       "      <td>06-Jul</td>\n",
       "      <td>210</td>\n",
       "      <td>NaN</td>\n",
       "      <td>NaN</td>\n",
       "    </tr>\n",
       "    <tr>\n",
       "      <th>409</th>\n",
       "      <td>Greg Smith</td>\n",
       "      <td>Minnesota Timberwolves</td>\n",
       "      <td>4</td>\n",
       "      <td>PF</td>\n",
       "      <td>25</td>\n",
       "      <td>06-Oct</td>\n",
       "      <td>250</td>\n",
       "      <td>Fresno State</td>\n",
       "      <td>NaN</td>\n",
       "    </tr>\n",
       "  </tbody>\n",
       "</table>\n",
       "</div>"
      ],
      "text/plain": [
       "               Name                    Team  Number Position  Age  Height  \\\n",
       "2      John Holland          Boston Celtics      30       SG   27  06-May   \n",
       "46      Elton Brand      Philadelphia 76ers      42       PF   37  06-Sep   \n",
       "171   Dahntay Jones     Cleveland Cavaliers      30       SG   35  06-Jun   \n",
       "264   Jordan Farmar       Memphis Grizzlies       4       PG   29  06-Feb   \n",
       "269    Ray McCallum       Memphis Grizzlies       5       PG   24  06-Mar   \n",
       "270  Xavier Munford       Memphis Grizzlies      14       PG   24  06-Mar   \n",
       "273  Alex Stepheson       Memphis Grizzlies      35       PF   28  06-Oct   \n",
       "350   Briante Weber              Miami Heat      12       PG   23  06-Feb   \n",
       "353   Dorell Wright              Miami Heat      11       SF   30  06-Sep   \n",
       "397    Axel Toupane          Denver Nuggets       6       SG   23  06-Jul   \n",
       "409      Greg Smith  Minnesota Timberwolves       4       PF   25  06-Oct   \n",
       "\n",
       "     Weight                College  Salary  \n",
       "2       205      Boston University     NaN  \n",
       "46      254                   Duke     NaN  \n",
       "171     225                   Duke     NaN  \n",
       "264     180                   UCLA     NaN  \n",
       "269     190                Detroit     NaN  \n",
       "270     180           Rhode Island     NaN  \n",
       "273     270                    USC     NaN  \n",
       "350     165  Virginia Commonwealth     NaN  \n",
       "353     205                    NaN     NaN  \n",
       "397     210                    NaN     NaN  \n",
       "409     250           Fresno State     NaN  "
      ]
     },
     "execution_count": 102,
     "metadata": {},
     "output_type": "execute_result"
    }
   ],
   "source": [
    "df[df['Salary'].isnull()]"
   ]
  },
  {
   "cell_type": "code",
   "execution_count": 103,
   "id": "b025934b-2685-43bb-b94f-f57a2047acee",
   "metadata": {},
   "outputs": [
    {
     "data": {
      "text/plain": [
       "Salary\n",
       "False    447\n",
       "True      11\n",
       "Name: count, dtype: int64"
      ]
     },
     "execution_count": 103,
     "metadata": {},
     "output_type": "execute_result"
    }
   ],
   "source": [
    "df['Salary'].isnull().value_counts()"
   ]
  },
  {
   "cell_type": "markdown",
   "id": "c659e3f0-05f2-44c4-82f8-10550c40242b",
   "metadata": {},
   "source": [
    "##### Therefore,\n",
    "There are in total 84 null values in column 'College' and 11 null values in column 'Salary'."
   ]
  },
  {
   "cell_type": "code",
   "execution_count": 104,
   "id": "182cd4df-92a0-48c1-91eb-da79c90ec49c",
   "metadata": {},
   "outputs": [
    {
     "data": {
      "text/html": [
       "<div>\n",
       "<style scoped>\n",
       "    .dataframe tbody tr th:only-of-type {\n",
       "        vertical-align: middle;\n",
       "    }\n",
       "\n",
       "    .dataframe tbody tr th {\n",
       "        vertical-align: top;\n",
       "    }\n",
       "\n",
       "    .dataframe thead th {\n",
       "        text-align: right;\n",
       "    }\n",
       "</style>\n",
       "<table border=\"1\" class=\"dataframe\">\n",
       "  <thead>\n",
       "    <tr style=\"text-align: right;\">\n",
       "      <th></th>\n",
       "      <th>Name</th>\n",
       "      <th>Team</th>\n",
       "      <th>Number</th>\n",
       "      <th>Position</th>\n",
       "      <th>Age</th>\n",
       "      <th>Height</th>\n",
       "      <th>Weight</th>\n",
       "      <th>College</th>\n",
       "      <th>Salary</th>\n",
       "    </tr>\n",
       "  </thead>\n",
       "  <tbody>\n",
       "    <tr>\n",
       "      <th>4</th>\n",
       "      <td>Jonas Jerebko</td>\n",
       "      <td>Boston Celtics</td>\n",
       "      <td>8</td>\n",
       "      <td>PF</td>\n",
       "      <td>29</td>\n",
       "      <td>06-Oct</td>\n",
       "      <td>231</td>\n",
       "      <td>NaN</td>\n",
       "      <td>5000000.0</td>\n",
       "    </tr>\n",
       "    <tr>\n",
       "      <th>5</th>\n",
       "      <td>Amir Johnson</td>\n",
       "      <td>Boston Celtics</td>\n",
       "      <td>90</td>\n",
       "      <td>PF</td>\n",
       "      <td>29</td>\n",
       "      <td>06-Sep</td>\n",
       "      <td>240</td>\n",
       "      <td>NaN</td>\n",
       "      <td>12000000.0</td>\n",
       "    </tr>\n",
       "    <tr>\n",
       "      <th>15</th>\n",
       "      <td>Bojan Bogdanovic</td>\n",
       "      <td>Brooklyn Nets</td>\n",
       "      <td>44</td>\n",
       "      <td>SG</td>\n",
       "      <td>27</td>\n",
       "      <td>06-Aug</td>\n",
       "      <td>216</td>\n",
       "      <td>NaN</td>\n",
       "      <td>3425510.0</td>\n",
       "    </tr>\n",
       "    <tr>\n",
       "      <th>20</th>\n",
       "      <td>Sergey Karasev</td>\n",
       "      <td>Brooklyn Nets</td>\n",
       "      <td>10</td>\n",
       "      <td>SG</td>\n",
       "      <td>22</td>\n",
       "      <td>06-Jul</td>\n",
       "      <td>208</td>\n",
       "      <td>NaN</td>\n",
       "      <td>1599840.0</td>\n",
       "    </tr>\n",
       "    <tr>\n",
       "      <th>32</th>\n",
       "      <td>Thanasis Antetokounmpo</td>\n",
       "      <td>New York Knicks</td>\n",
       "      <td>43</td>\n",
       "      <td>SF</td>\n",
       "      <td>23</td>\n",
       "      <td>06-Jul</td>\n",
       "      <td>205</td>\n",
       "      <td>NaN</td>\n",
       "      <td>30888.0</td>\n",
       "    </tr>\n",
       "    <tr>\n",
       "      <th>...</th>\n",
       "      <td>...</td>\n",
       "      <td>...</td>\n",
       "      <td>...</td>\n",
       "      <td>...</td>\n",
       "      <td>...</td>\n",
       "      <td>...</td>\n",
       "      <td>...</td>\n",
       "      <td>...</td>\n",
       "      <td>...</td>\n",
       "    </tr>\n",
       "    <tr>\n",
       "      <th>445</th>\n",
       "      <td>Dante Exum</td>\n",
       "      <td>Utah Jazz</td>\n",
       "      <td>11</td>\n",
       "      <td>PG</td>\n",
       "      <td>20</td>\n",
       "      <td>06-Jun</td>\n",
       "      <td>190</td>\n",
       "      <td>NaN</td>\n",
       "      <td>3777720.0</td>\n",
       "    </tr>\n",
       "    <tr>\n",
       "      <th>447</th>\n",
       "      <td>Rudy Gobert</td>\n",
       "      <td>Utah Jazz</td>\n",
       "      <td>27</td>\n",
       "      <td>C</td>\n",
       "      <td>23</td>\n",
       "      <td>07-Jan</td>\n",
       "      <td>245</td>\n",
       "      <td>NaN</td>\n",
       "      <td>1175880.0</td>\n",
       "    </tr>\n",
       "    <tr>\n",
       "      <th>450</th>\n",
       "      <td>Joe Ingles</td>\n",
       "      <td>Utah Jazz</td>\n",
       "      <td>2</td>\n",
       "      <td>SF</td>\n",
       "      <td>28</td>\n",
       "      <td>06-Aug</td>\n",
       "      <td>226</td>\n",
       "      <td>NaN</td>\n",
       "      <td>2050000.0</td>\n",
       "    </tr>\n",
       "    <tr>\n",
       "      <th>454</th>\n",
       "      <td>Raul Neto</td>\n",
       "      <td>Utah Jazz</td>\n",
       "      <td>25</td>\n",
       "      <td>PG</td>\n",
       "      <td>24</td>\n",
       "      <td>06-Jan</td>\n",
       "      <td>179</td>\n",
       "      <td>NaN</td>\n",
       "      <td>900000.0</td>\n",
       "    </tr>\n",
       "    <tr>\n",
       "      <th>455</th>\n",
       "      <td>Tibor Pleiss</td>\n",
       "      <td>Utah Jazz</td>\n",
       "      <td>21</td>\n",
       "      <td>C</td>\n",
       "      <td>26</td>\n",
       "      <td>07-Mar</td>\n",
       "      <td>256</td>\n",
       "      <td>NaN</td>\n",
       "      <td>2900000.0</td>\n",
       "    </tr>\n",
       "  </tbody>\n",
       "</table>\n",
       "<p>84 rows × 9 columns</p>\n",
       "</div>"
      ],
      "text/plain": [
       "                       Name             Team  Number Position  Age  Height  \\\n",
       "4             Jonas Jerebko   Boston Celtics       8       PF   29  06-Oct   \n",
       "5              Amir Johnson   Boston Celtics      90       PF   29  06-Sep   \n",
       "15         Bojan Bogdanovic    Brooklyn Nets      44       SG   27  06-Aug   \n",
       "20           Sergey Karasev    Brooklyn Nets      10       SG   22  06-Jul   \n",
       "32   Thanasis Antetokounmpo  New York Knicks      43       SF   23  06-Jul   \n",
       "..                      ...              ...     ...      ...  ...     ...   \n",
       "445              Dante Exum        Utah Jazz      11       PG   20  06-Jun   \n",
       "447             Rudy Gobert        Utah Jazz      27        C   23  07-Jan   \n",
       "450              Joe Ingles        Utah Jazz       2       SF   28  06-Aug   \n",
       "454               Raul Neto        Utah Jazz      25       PG   24  06-Jan   \n",
       "455            Tibor Pleiss        Utah Jazz      21        C   26  07-Mar   \n",
       "\n",
       "     Weight College      Salary  \n",
       "4       231     NaN   5000000.0  \n",
       "5       240     NaN  12000000.0  \n",
       "15      216     NaN   3425510.0  \n",
       "20      208     NaN   1599840.0  \n",
       "32      205     NaN     30888.0  \n",
       "..      ...     ...         ...  \n",
       "445     190     NaN   3777720.0  \n",
       "447     245     NaN   1175880.0  \n",
       "450     226     NaN   2050000.0  \n",
       "454     179     NaN    900000.0  \n",
       "455     256     NaN   2900000.0  \n",
       "\n",
       "[84 rows x 9 columns]"
      ]
     },
     "execution_count": 104,
     "metadata": {},
     "output_type": "execute_result"
    }
   ],
   "source": [
    "df[df['College'].isnull()]  #getting the corresponding raws with nulll values"
   ]
  },
  {
   "cell_type": "code",
   "execution_count": 105,
   "id": "eaefe1a9-429b-459b-b22a-802f6b1ab785",
   "metadata": {},
   "outputs": [
    {
     "data": {
      "text/html": [
       "<div>\n",
       "<style scoped>\n",
       "    .dataframe tbody tr th:only-of-type {\n",
       "        vertical-align: middle;\n",
       "    }\n",
       "\n",
       "    .dataframe tbody tr th {\n",
       "        vertical-align: top;\n",
       "    }\n",
       "\n",
       "    .dataframe thead th {\n",
       "        text-align: right;\n",
       "    }\n",
       "</style>\n",
       "<table border=\"1\" class=\"dataframe\">\n",
       "  <thead>\n",
       "    <tr style=\"text-align: right;\">\n",
       "      <th></th>\n",
       "      <th>Name</th>\n",
       "      <th>Team</th>\n",
       "      <th>Number</th>\n",
       "      <th>Position</th>\n",
       "      <th>Age</th>\n",
       "      <th>Height</th>\n",
       "      <th>Weight</th>\n",
       "      <th>College</th>\n",
       "      <th>Salary</th>\n",
       "    </tr>\n",
       "  </thead>\n",
       "  <tbody>\n",
       "    <tr>\n",
       "      <th>2</th>\n",
       "      <td>John Holland</td>\n",
       "      <td>Boston Celtics</td>\n",
       "      <td>30</td>\n",
       "      <td>SG</td>\n",
       "      <td>27</td>\n",
       "      <td>06-May</td>\n",
       "      <td>205</td>\n",
       "      <td>Boston University</td>\n",
       "      <td>NaN</td>\n",
       "    </tr>\n",
       "    <tr>\n",
       "      <th>46</th>\n",
       "      <td>Elton Brand</td>\n",
       "      <td>Philadelphia 76ers</td>\n",
       "      <td>42</td>\n",
       "      <td>PF</td>\n",
       "      <td>37</td>\n",
       "      <td>06-Sep</td>\n",
       "      <td>254</td>\n",
       "      <td>Duke</td>\n",
       "      <td>NaN</td>\n",
       "    </tr>\n",
       "    <tr>\n",
       "      <th>171</th>\n",
       "      <td>Dahntay Jones</td>\n",
       "      <td>Cleveland Cavaliers</td>\n",
       "      <td>30</td>\n",
       "      <td>SG</td>\n",
       "      <td>35</td>\n",
       "      <td>06-Jun</td>\n",
       "      <td>225</td>\n",
       "      <td>Duke</td>\n",
       "      <td>NaN</td>\n",
       "    </tr>\n",
       "    <tr>\n",
       "      <th>264</th>\n",
       "      <td>Jordan Farmar</td>\n",
       "      <td>Memphis Grizzlies</td>\n",
       "      <td>4</td>\n",
       "      <td>PG</td>\n",
       "      <td>29</td>\n",
       "      <td>06-Feb</td>\n",
       "      <td>180</td>\n",
       "      <td>UCLA</td>\n",
       "      <td>NaN</td>\n",
       "    </tr>\n",
       "    <tr>\n",
       "      <th>269</th>\n",
       "      <td>Ray McCallum</td>\n",
       "      <td>Memphis Grizzlies</td>\n",
       "      <td>5</td>\n",
       "      <td>PG</td>\n",
       "      <td>24</td>\n",
       "      <td>06-Mar</td>\n",
       "      <td>190</td>\n",
       "      <td>Detroit</td>\n",
       "      <td>NaN</td>\n",
       "    </tr>\n",
       "    <tr>\n",
       "      <th>270</th>\n",
       "      <td>Xavier Munford</td>\n",
       "      <td>Memphis Grizzlies</td>\n",
       "      <td>14</td>\n",
       "      <td>PG</td>\n",
       "      <td>24</td>\n",
       "      <td>06-Mar</td>\n",
       "      <td>180</td>\n",
       "      <td>Rhode Island</td>\n",
       "      <td>NaN</td>\n",
       "    </tr>\n",
       "    <tr>\n",
       "      <th>273</th>\n",
       "      <td>Alex Stepheson</td>\n",
       "      <td>Memphis Grizzlies</td>\n",
       "      <td>35</td>\n",
       "      <td>PF</td>\n",
       "      <td>28</td>\n",
       "      <td>06-Oct</td>\n",
       "      <td>270</td>\n",
       "      <td>USC</td>\n",
       "      <td>NaN</td>\n",
       "    </tr>\n",
       "    <tr>\n",
       "      <th>350</th>\n",
       "      <td>Briante Weber</td>\n",
       "      <td>Miami Heat</td>\n",
       "      <td>12</td>\n",
       "      <td>PG</td>\n",
       "      <td>23</td>\n",
       "      <td>06-Feb</td>\n",
       "      <td>165</td>\n",
       "      <td>Virginia Commonwealth</td>\n",
       "      <td>NaN</td>\n",
       "    </tr>\n",
       "    <tr>\n",
       "      <th>353</th>\n",
       "      <td>Dorell Wright</td>\n",
       "      <td>Miami Heat</td>\n",
       "      <td>11</td>\n",
       "      <td>SF</td>\n",
       "      <td>30</td>\n",
       "      <td>06-Sep</td>\n",
       "      <td>205</td>\n",
       "      <td>NaN</td>\n",
       "      <td>NaN</td>\n",
       "    </tr>\n",
       "    <tr>\n",
       "      <th>397</th>\n",
       "      <td>Axel Toupane</td>\n",
       "      <td>Denver Nuggets</td>\n",
       "      <td>6</td>\n",
       "      <td>SG</td>\n",
       "      <td>23</td>\n",
       "      <td>06-Jul</td>\n",
       "      <td>210</td>\n",
       "      <td>NaN</td>\n",
       "      <td>NaN</td>\n",
       "    </tr>\n",
       "    <tr>\n",
       "      <th>409</th>\n",
       "      <td>Greg Smith</td>\n",
       "      <td>Minnesota Timberwolves</td>\n",
       "      <td>4</td>\n",
       "      <td>PF</td>\n",
       "      <td>25</td>\n",
       "      <td>06-Oct</td>\n",
       "      <td>250</td>\n",
       "      <td>Fresno State</td>\n",
       "      <td>NaN</td>\n",
       "    </tr>\n",
       "  </tbody>\n",
       "</table>\n",
       "</div>"
      ],
      "text/plain": [
       "               Name                    Team  Number Position  Age  Height  \\\n",
       "2      John Holland          Boston Celtics      30       SG   27  06-May   \n",
       "46      Elton Brand      Philadelphia 76ers      42       PF   37  06-Sep   \n",
       "171   Dahntay Jones     Cleveland Cavaliers      30       SG   35  06-Jun   \n",
       "264   Jordan Farmar       Memphis Grizzlies       4       PG   29  06-Feb   \n",
       "269    Ray McCallum       Memphis Grizzlies       5       PG   24  06-Mar   \n",
       "270  Xavier Munford       Memphis Grizzlies      14       PG   24  06-Mar   \n",
       "273  Alex Stepheson       Memphis Grizzlies      35       PF   28  06-Oct   \n",
       "350   Briante Weber              Miami Heat      12       PG   23  06-Feb   \n",
       "353   Dorell Wright              Miami Heat      11       SF   30  06-Sep   \n",
       "397    Axel Toupane          Denver Nuggets       6       SG   23  06-Jul   \n",
       "409      Greg Smith  Minnesota Timberwolves       4       PF   25  06-Oct   \n",
       "\n",
       "     Weight                College  Salary  \n",
       "2       205      Boston University     NaN  \n",
       "46      254                   Duke     NaN  \n",
       "171     225                   Duke     NaN  \n",
       "264     180                   UCLA     NaN  \n",
       "269     190                Detroit     NaN  \n",
       "270     180           Rhode Island     NaN  \n",
       "273     270                    USC     NaN  \n",
       "350     165  Virginia Commonwealth     NaN  \n",
       "353     205                    NaN     NaN  \n",
       "397     210                    NaN     NaN  \n",
       "409     250           Fresno State     NaN  "
      ]
     },
     "execution_count": 105,
     "metadata": {},
     "output_type": "execute_result"
    }
   ],
   "source": [
    "df[df['Salary'].isnull()]"
   ]
  },
  {
   "cell_type": "markdown",
   "id": "6423875b-e1ee-4567-aecc-317a6e878966",
   "metadata": {},
   "source": [
    "### Filling NaN with '0' in both College and Salary columns Using .fillna()\r\n"
   ]
  },
  {
   "cell_type": "code",
   "execution_count": 106,
   "id": "c6da8be1-b4f1-4ae6-acc1-8d9672e565de",
   "metadata": {},
   "outputs": [
    {
     "data": {
      "text/html": [
       "<div>\n",
       "<style scoped>\n",
       "    .dataframe tbody tr th:only-of-type {\n",
       "        vertical-align: middle;\n",
       "    }\n",
       "\n",
       "    .dataframe tbody tr th {\n",
       "        vertical-align: top;\n",
       "    }\n",
       "\n",
       "    .dataframe thead th {\n",
       "        text-align: right;\n",
       "    }\n",
       "</style>\n",
       "<table border=\"1\" class=\"dataframe\">\n",
       "  <thead>\n",
       "    <tr style=\"text-align: right;\">\n",
       "      <th></th>\n",
       "      <th>Name</th>\n",
       "      <th>Team</th>\n",
       "      <th>Number</th>\n",
       "      <th>Position</th>\n",
       "      <th>Age</th>\n",
       "      <th>Height</th>\n",
       "      <th>Weight</th>\n",
       "      <th>College</th>\n",
       "      <th>Salary</th>\n",
       "    </tr>\n",
       "  </thead>\n",
       "  <tbody>\n",
       "    <tr>\n",
       "      <th>0</th>\n",
       "      <td>Avery Bradley</td>\n",
       "      <td>Boston Celtics</td>\n",
       "      <td>0</td>\n",
       "      <td>PG</td>\n",
       "      <td>25</td>\n",
       "      <td>06-Feb</td>\n",
       "      <td>180</td>\n",
       "      <td>Texas</td>\n",
       "      <td>7730337.0</td>\n",
       "    </tr>\n",
       "    <tr>\n",
       "      <th>1</th>\n",
       "      <td>Jae Crowder</td>\n",
       "      <td>Boston Celtics</td>\n",
       "      <td>99</td>\n",
       "      <td>SF</td>\n",
       "      <td>25</td>\n",
       "      <td>06-Jun</td>\n",
       "      <td>235</td>\n",
       "      <td>Marquette</td>\n",
       "      <td>6796117.0</td>\n",
       "    </tr>\n",
       "    <tr>\n",
       "      <th>2</th>\n",
       "      <td>John Holland</td>\n",
       "      <td>Boston Celtics</td>\n",
       "      <td>30</td>\n",
       "      <td>SG</td>\n",
       "      <td>27</td>\n",
       "      <td>06-May</td>\n",
       "      <td>205</td>\n",
       "      <td>Boston University</td>\n",
       "      <td>0.0</td>\n",
       "    </tr>\n",
       "    <tr>\n",
       "      <th>3</th>\n",
       "      <td>R.J. Hunter</td>\n",
       "      <td>Boston Celtics</td>\n",
       "      <td>28</td>\n",
       "      <td>SG</td>\n",
       "      <td>22</td>\n",
       "      <td>06-May</td>\n",
       "      <td>185</td>\n",
       "      <td>Georgia State</td>\n",
       "      <td>1148640.0</td>\n",
       "    </tr>\n",
       "    <tr>\n",
       "      <th>4</th>\n",
       "      <td>Jonas Jerebko</td>\n",
       "      <td>Boston Celtics</td>\n",
       "      <td>8</td>\n",
       "      <td>PF</td>\n",
       "      <td>29</td>\n",
       "      <td>06-Oct</td>\n",
       "      <td>231</td>\n",
       "      <td>0</td>\n",
       "      <td>5000000.0</td>\n",
       "    </tr>\n",
       "    <tr>\n",
       "      <th>...</th>\n",
       "      <td>...</td>\n",
       "      <td>...</td>\n",
       "      <td>...</td>\n",
       "      <td>...</td>\n",
       "      <td>...</td>\n",
       "      <td>...</td>\n",
       "      <td>...</td>\n",
       "      <td>...</td>\n",
       "      <td>...</td>\n",
       "    </tr>\n",
       "    <tr>\n",
       "      <th>453</th>\n",
       "      <td>Shelvin Mack</td>\n",
       "      <td>Utah Jazz</td>\n",
       "      <td>8</td>\n",
       "      <td>PG</td>\n",
       "      <td>26</td>\n",
       "      <td>06-Mar</td>\n",
       "      <td>203</td>\n",
       "      <td>Butler</td>\n",
       "      <td>2433333.0</td>\n",
       "    </tr>\n",
       "    <tr>\n",
       "      <th>454</th>\n",
       "      <td>Raul Neto</td>\n",
       "      <td>Utah Jazz</td>\n",
       "      <td>25</td>\n",
       "      <td>PG</td>\n",
       "      <td>24</td>\n",
       "      <td>06-Jan</td>\n",
       "      <td>179</td>\n",
       "      <td>0</td>\n",
       "      <td>900000.0</td>\n",
       "    </tr>\n",
       "    <tr>\n",
       "      <th>455</th>\n",
       "      <td>Tibor Pleiss</td>\n",
       "      <td>Utah Jazz</td>\n",
       "      <td>21</td>\n",
       "      <td>C</td>\n",
       "      <td>26</td>\n",
       "      <td>07-Mar</td>\n",
       "      <td>256</td>\n",
       "      <td>0</td>\n",
       "      <td>2900000.0</td>\n",
       "    </tr>\n",
       "    <tr>\n",
       "      <th>456</th>\n",
       "      <td>Jeff Withey</td>\n",
       "      <td>Utah Jazz</td>\n",
       "      <td>24</td>\n",
       "      <td>C</td>\n",
       "      <td>26</td>\n",
       "      <td>7-0</td>\n",
       "      <td>231</td>\n",
       "      <td>Kansas</td>\n",
       "      <td>947276.0</td>\n",
       "    </tr>\n",
       "    <tr>\n",
       "      <th>457</th>\n",
       "      <td>Priyanka</td>\n",
       "      <td>Utah Jazz</td>\n",
       "      <td>34</td>\n",
       "      <td>C</td>\n",
       "      <td>25</td>\n",
       "      <td>07-Mar</td>\n",
       "      <td>231</td>\n",
       "      <td>Kansas</td>\n",
       "      <td>947276.0</td>\n",
       "    </tr>\n",
       "  </tbody>\n",
       "</table>\n",
       "<p>458 rows × 9 columns</p>\n",
       "</div>"
      ],
      "text/plain": [
       "              Name            Team  Number Position  Age  Height  Weight  \\\n",
       "0    Avery Bradley  Boston Celtics       0       PG   25  06-Feb     180   \n",
       "1      Jae Crowder  Boston Celtics      99       SF   25  06-Jun     235   \n",
       "2     John Holland  Boston Celtics      30       SG   27  06-May     205   \n",
       "3      R.J. Hunter  Boston Celtics      28       SG   22  06-May     185   \n",
       "4    Jonas Jerebko  Boston Celtics       8       PF   29  06-Oct     231   \n",
       "..             ...             ...     ...      ...  ...     ...     ...   \n",
       "453   Shelvin Mack       Utah Jazz       8       PG   26  06-Mar     203   \n",
       "454      Raul Neto       Utah Jazz      25       PG   24  06-Jan     179   \n",
       "455   Tibor Pleiss       Utah Jazz      21        C   26  07-Mar     256   \n",
       "456    Jeff Withey       Utah Jazz      24        C   26     7-0     231   \n",
       "457       Priyanka       Utah Jazz      34        C   25  07-Mar     231   \n",
       "\n",
       "               College     Salary  \n",
       "0                Texas  7730337.0  \n",
       "1            Marquette  6796117.0  \n",
       "2    Boston University        0.0  \n",
       "3        Georgia State  1148640.0  \n",
       "4                    0  5000000.0  \n",
       "..                 ...        ...  \n",
       "453             Butler  2433333.0  \n",
       "454                  0   900000.0  \n",
       "455                  0  2900000.0  \n",
       "456             Kansas   947276.0  \n",
       "457             Kansas   947276.0  \n",
       "\n",
       "[458 rows x 9 columns]"
      ]
     },
     "execution_count": 106,
     "metadata": {},
     "output_type": "execute_result"
    }
   ],
   "source": [
    "df.fillna(0,inplace=True)\n",
    "df"
   ]
  },
  {
   "cell_type": "markdown",
   "id": "4b0b6f76-5e90-4ef2-a34d-f0923cc6b87b",
   "metadata": {},
   "source": [
    "### Checking whether there is any null value now."
   ]
  },
  {
   "cell_type": "code",
   "execution_count": 107,
   "id": "9df84f5d-b30f-4ce7-8394-5f7394d98106",
   "metadata": {},
   "outputs": [
    {
     "data": {
      "text/plain": [
       "0"
      ]
     },
     "execution_count": 107,
     "metadata": {},
     "output_type": "execute_result"
    }
   ],
   "source": [
    "df['College'].isnull().sum()\n"
   ]
  },
  {
   "cell_type": "code",
   "execution_count": 108,
   "id": "8e98ca37-15e3-4264-9969-51a94f52fb8f",
   "metadata": {},
   "outputs": [
    {
     "data": {
      "text/plain": [
       "0"
      ]
     },
     "execution_count": 108,
     "metadata": {},
     "output_type": "execute_result"
    }
   ],
   "source": [
    "df['Salary'].isnull().sum()"
   ]
  },
  {
   "cell_type": "markdown",
   "id": "1b8383ab-ddac-42b5-a041-baa98d3bc838",
   "metadata": {},
   "source": [
    "### Checking the column corresponding to \"Height' for any incorrect or mismatching entry"
   ]
  },
  {
   "cell_type": "code",
   "execution_count": 109,
   "id": "9a442568-caef-4e8b-badf-c41df4d77187",
   "metadata": {},
   "outputs": [
    {
     "data": {
      "text/plain": [
       "0      06-Feb\n",
       "1      06-Jun\n",
       "2      06-May\n",
       "3      06-May\n",
       "4      06-Oct\n",
       "        ...  \n",
       "453    06-Mar\n",
       "454    06-Jan\n",
       "455    07-Mar\n",
       "456       7-0\n",
       "457    07-Mar\n",
       "Name: Height, Length: 458, dtype: object"
      ]
     },
     "execution_count": 109,
     "metadata": {},
     "output_type": "execute_result"
    }
   ],
   "source": [
    "#column height\n",
    "df['Height']"
   ]
  },
  {
   "cell_type": "code",
   "execution_count": 110,
   "id": "cf9a274a-5cf8-432b-a446-90913f9a47db",
   "metadata": {},
   "outputs": [
    {
     "data": {
      "text/plain": [
       "pandas.core.series.Series"
      ]
     },
     "execution_count": 110,
     "metadata": {},
     "output_type": "execute_result"
    }
   ],
   "source": [
    "#checking the incorrect data\n",
    "type(df['Height'])"
   ]
  },
  {
   "cell_type": "code",
   "execution_count": 111,
   "id": "f9a18fd6-cd62-41b0-a427-54b5df337131",
   "metadata": {},
   "outputs": [],
   "source": [
    "df['Height'] = np.random.uniform(150,180,size = len(df))"
   ]
  },
  {
   "cell_type": "code",
   "execution_count": 112,
   "id": "20091243-9977-4e2b-b1eb-322850682806",
   "metadata": {},
   "outputs": [
    {
     "data": {
      "text/html": [
       "<div>\n",
       "<style scoped>\n",
       "    .dataframe tbody tr th:only-of-type {\n",
       "        vertical-align: middle;\n",
       "    }\n",
       "\n",
       "    .dataframe tbody tr th {\n",
       "        vertical-align: top;\n",
       "    }\n",
       "\n",
       "    .dataframe thead th {\n",
       "        text-align: right;\n",
       "    }\n",
       "</style>\n",
       "<table border=\"1\" class=\"dataframe\">\n",
       "  <thead>\n",
       "    <tr style=\"text-align: right;\">\n",
       "      <th></th>\n",
       "      <th>Name</th>\n",
       "      <th>Team</th>\n",
       "      <th>Number</th>\n",
       "      <th>Position</th>\n",
       "      <th>Age</th>\n",
       "      <th>Height</th>\n",
       "      <th>Weight</th>\n",
       "      <th>College</th>\n",
       "      <th>Salary</th>\n",
       "    </tr>\n",
       "  </thead>\n",
       "  <tbody>\n",
       "    <tr>\n",
       "      <th>0</th>\n",
       "      <td>Avery Bradley</td>\n",
       "      <td>Boston Celtics</td>\n",
       "      <td>0</td>\n",
       "      <td>PG</td>\n",
       "      <td>25</td>\n",
       "      <td>159.465600</td>\n",
       "      <td>180</td>\n",
       "      <td>Texas</td>\n",
       "      <td>7730337.0</td>\n",
       "    </tr>\n",
       "    <tr>\n",
       "      <th>1</th>\n",
       "      <td>Jae Crowder</td>\n",
       "      <td>Boston Celtics</td>\n",
       "      <td>99</td>\n",
       "      <td>SF</td>\n",
       "      <td>25</td>\n",
       "      <td>165.815756</td>\n",
       "      <td>235</td>\n",
       "      <td>Marquette</td>\n",
       "      <td>6796117.0</td>\n",
       "    </tr>\n",
       "    <tr>\n",
       "      <th>2</th>\n",
       "      <td>John Holland</td>\n",
       "      <td>Boston Celtics</td>\n",
       "      <td>30</td>\n",
       "      <td>SG</td>\n",
       "      <td>27</td>\n",
       "      <td>156.808732</td>\n",
       "      <td>205</td>\n",
       "      <td>Boston University</td>\n",
       "      <td>0.0</td>\n",
       "    </tr>\n",
       "    <tr>\n",
       "      <th>3</th>\n",
       "      <td>R.J. Hunter</td>\n",
       "      <td>Boston Celtics</td>\n",
       "      <td>28</td>\n",
       "      <td>SG</td>\n",
       "      <td>22</td>\n",
       "      <td>176.736238</td>\n",
       "      <td>185</td>\n",
       "      <td>Georgia State</td>\n",
       "      <td>1148640.0</td>\n",
       "    </tr>\n",
       "    <tr>\n",
       "      <th>4</th>\n",
       "      <td>Jonas Jerebko</td>\n",
       "      <td>Boston Celtics</td>\n",
       "      <td>8</td>\n",
       "      <td>PF</td>\n",
       "      <td>29</td>\n",
       "      <td>155.609701</td>\n",
       "      <td>231</td>\n",
       "      <td>0</td>\n",
       "      <td>5000000.0</td>\n",
       "    </tr>\n",
       "    <tr>\n",
       "      <th>...</th>\n",
       "      <td>...</td>\n",
       "      <td>...</td>\n",
       "      <td>...</td>\n",
       "      <td>...</td>\n",
       "      <td>...</td>\n",
       "      <td>...</td>\n",
       "      <td>...</td>\n",
       "      <td>...</td>\n",
       "      <td>...</td>\n",
       "    </tr>\n",
       "    <tr>\n",
       "      <th>453</th>\n",
       "      <td>Shelvin Mack</td>\n",
       "      <td>Utah Jazz</td>\n",
       "      <td>8</td>\n",
       "      <td>PG</td>\n",
       "      <td>26</td>\n",
       "      <td>151.818295</td>\n",
       "      <td>203</td>\n",
       "      <td>Butler</td>\n",
       "      <td>2433333.0</td>\n",
       "    </tr>\n",
       "    <tr>\n",
       "      <th>454</th>\n",
       "      <td>Raul Neto</td>\n",
       "      <td>Utah Jazz</td>\n",
       "      <td>25</td>\n",
       "      <td>PG</td>\n",
       "      <td>24</td>\n",
       "      <td>176.755659</td>\n",
       "      <td>179</td>\n",
       "      <td>0</td>\n",
       "      <td>900000.0</td>\n",
       "    </tr>\n",
       "    <tr>\n",
       "      <th>455</th>\n",
       "      <td>Tibor Pleiss</td>\n",
       "      <td>Utah Jazz</td>\n",
       "      <td>21</td>\n",
       "      <td>C</td>\n",
       "      <td>26</td>\n",
       "      <td>162.040704</td>\n",
       "      <td>256</td>\n",
       "      <td>0</td>\n",
       "      <td>2900000.0</td>\n",
       "    </tr>\n",
       "    <tr>\n",
       "      <th>456</th>\n",
       "      <td>Jeff Withey</td>\n",
       "      <td>Utah Jazz</td>\n",
       "      <td>24</td>\n",
       "      <td>C</td>\n",
       "      <td>26</td>\n",
       "      <td>154.564140</td>\n",
       "      <td>231</td>\n",
       "      <td>Kansas</td>\n",
       "      <td>947276.0</td>\n",
       "    </tr>\n",
       "    <tr>\n",
       "      <th>457</th>\n",
       "      <td>Priyanka</td>\n",
       "      <td>Utah Jazz</td>\n",
       "      <td>34</td>\n",
       "      <td>C</td>\n",
       "      <td>25</td>\n",
       "      <td>179.289142</td>\n",
       "      <td>231</td>\n",
       "      <td>Kansas</td>\n",
       "      <td>947276.0</td>\n",
       "    </tr>\n",
       "  </tbody>\n",
       "</table>\n",
       "<p>458 rows × 9 columns</p>\n",
       "</div>"
      ],
      "text/plain": [
       "              Name            Team  Number Position  Age      Height  Weight  \\\n",
       "0    Avery Bradley  Boston Celtics       0       PG   25  159.465600     180   \n",
       "1      Jae Crowder  Boston Celtics      99       SF   25  165.815756     235   \n",
       "2     John Holland  Boston Celtics      30       SG   27  156.808732     205   \n",
       "3      R.J. Hunter  Boston Celtics      28       SG   22  176.736238     185   \n",
       "4    Jonas Jerebko  Boston Celtics       8       PF   29  155.609701     231   \n",
       "..             ...             ...     ...      ...  ...         ...     ...   \n",
       "453   Shelvin Mack       Utah Jazz       8       PG   26  151.818295     203   \n",
       "454      Raul Neto       Utah Jazz      25       PG   24  176.755659     179   \n",
       "455   Tibor Pleiss       Utah Jazz      21        C   26  162.040704     256   \n",
       "456    Jeff Withey       Utah Jazz      24        C   26  154.564140     231   \n",
       "457       Priyanka       Utah Jazz      34        C   25  179.289142     231   \n",
       "\n",
       "               College     Salary  \n",
       "0                Texas  7730337.0  \n",
       "1            Marquette  6796117.0  \n",
       "2    Boston University        0.0  \n",
       "3        Georgia State  1148640.0  \n",
       "4                    0  5000000.0  \n",
       "..                 ...        ...  \n",
       "453             Butler  2433333.0  \n",
       "454                  0   900000.0  \n",
       "455                  0  2900000.0  \n",
       "456             Kansas   947276.0  \n",
       "457             Kansas   947276.0  \n",
       "\n",
       "[458 rows x 9 columns]"
      ]
     },
     "execution_count": 112,
     "metadata": {},
     "output_type": "execute_result"
    }
   ],
   "source": [
    "df"
   ]
  },
  {
   "cell_type": "code",
   "execution_count": 113,
   "id": "2444d9a7-49e8-4cde-8f4c-295c7f90b85c",
   "metadata": {},
   "outputs": [
    {
     "data": {
      "text/plain": [
       "458"
      ]
     },
     "execution_count": 113,
     "metadata": {},
     "output_type": "execute_result"
    }
   ],
   "source": [
    "df['Height'].nunique()"
   ]
  },
  {
   "cell_type": "code",
   "execution_count": 114,
   "id": "f2a9d8e4-1b00-42bc-babd-ba73568a55ee",
   "metadata": {},
   "outputs": [
    {
     "data": {
      "text/plain": [
       "Height\n",
       "159.465600    1\n",
       "150.649995    1\n",
       "171.848733    1\n",
       "165.998559    1\n",
       "167.344603    1\n",
       "             ..\n",
       "150.702513    1\n",
       "155.000600    1\n",
       "153.867384    1\n",
       "163.366044    1\n",
       "179.289142    1\n",
       "Name: count, Length: 458, dtype: int64"
      ]
     },
     "execution_count": 114,
     "metadata": {},
     "output_type": "execute_result"
    }
   ],
   "source": [
    "df['Height'].value_counts()"
   ]
  },
  {
   "cell_type": "code",
   "execution_count": 115,
   "id": "694fb506-c6b1-4b78-80ee-a9f8e3c70e7a",
   "metadata": {},
   "outputs": [
    {
     "data": {
      "text/plain": [
       "count    458.000000\n",
       "mean     164.171657\n",
       "std        8.859840\n",
       "min      150.002029\n",
       "25%      156.350549\n",
       "50%      163.659797\n",
       "75%      172.315084\n",
       "max      179.966077\n",
       "Name: Height, dtype: float64"
      ]
     },
     "execution_count": 115,
     "metadata": {},
     "output_type": "execute_result"
    }
   ],
   "source": [
    "df['Height'].describe()"
   ]
  },
  {
   "cell_type": "markdown",
   "id": "51abd862-ea84-4ccc-843f-4999531d88ba",
   "metadata": {},
   "source": [
    "### It looks like the data in the \"Height\" column contains a mix of numerical values and non-numeric values.So convert into numerical values.\n",
    "#### some steps to handle this kind of data:"
   ]
  },
  {
   "cell_type": "code",
   "execution_count": 116,
   "id": "2fd4c54d-ab85-4bf0-b51a-2b71c4882469",
   "metadata": {},
   "outputs": [],
   "source": [
    "df['Height'] = pd.to_numeric(df['Height'], errors='coerce')"
   ]
  },
  {
   "cell_type": "code",
   "execution_count": 117,
   "id": "c2b7fccf-eac2-4b94-b444-8e1acb8684b0",
   "metadata": {},
   "outputs": [
    {
     "data": {
      "text/plain": [
       "0      159.465600\n",
       "1      165.815756\n",
       "2      156.808732\n",
       "3      176.736238\n",
       "4      155.609701\n",
       "          ...    \n",
       "453    151.818295\n",
       "454    176.755659\n",
       "455    162.040704\n",
       "456    154.564140\n",
       "457    179.289142\n",
       "Name: Height, Length: 458, dtype: float64"
      ]
     },
     "execution_count": 117,
     "metadata": {},
     "output_type": "execute_result"
    }
   ],
   "source": [
    "random_numbers = np.random.randint(150, 180, size=len(df))\n",
    "df['Height'].fillna(pd.Series(random_numbers), inplace=True)\n",
    "df['Height']"
   ]
  },
  {
   "cell_type": "markdown",
   "id": "e3c7e0af-591c-4af2-ac65-beb1e7721da8",
   "metadata": {},
   "source": [
    "### Questions in dataset\n",
    "### 1.How many are there in each Team and the percentage splitting with respect to the total employees.\n",
    "### 2.Segregate the employees w.r.t different positions\n",
    "### 3.Find from which age group most of the employees belong to.\n",
    "### 4.Find out under which team and position, spending in terms of salary is high.\n",
    "### 5.Find if there is any correlation between age and salary , represent it visually."
   ]
  },
  {
   "cell_type": "markdown",
   "id": "d17ea625-c594-4156-8bc0-6d3c1d6c596e",
   "metadata": {},
   "source": [
    "### 1.How Many Are There In Each Team and Precentage splitting with respect to the total employees."
   ]
  },
  {
   "cell_type": "code",
   "execution_count": 118,
   "id": "0cd14d97-632d-4a0f-bcd1-fce91fd37c39",
   "metadata": {},
   "outputs": [
    {
     "name": "stdout",
     "output_type": "stream",
     "text": [
      "Team\n",
      "New Orleans Pelicans      19\n",
      "Memphis Grizzlies         18\n",
      "Utah Jazz                 16\n",
      "New York Knicks           16\n",
      "Milwaukee Bucks           16\n",
      "Brooklyn Nets             15\n",
      "Portland Trail Blazers    15\n",
      "Oklahoma City Thunder     15\n",
      "Denver Nuggets            15\n",
      "Washington Wizards        15\n",
      "Miami Heat                15\n",
      "Charlotte Hornets         15\n",
      "Atlanta Hawks             15\n",
      "San Antonio Spurs         15\n",
      "Houston Rockets           15\n",
      "Boston Celtics            15\n",
      "Indiana Pacers            15\n",
      "Detroit Pistons           15\n",
      "Cleveland Cavaliers       15\n",
      "Chicago Bulls             15\n",
      "Sacramento Kings          15\n",
      "Phoenix Suns              15\n",
      "Los Angeles Lakers        15\n",
      "Los Angeles Clippers      15\n",
      "Golden State Warriors     15\n",
      "Toronto Raptors           15\n",
      "Philadelphia 76ers        15\n",
      "Dallas Mavericks          15\n",
      "Orlando Magic             14\n",
      "Minnesota Timberwolves    14\n",
      "Name: count, dtype: int64\n"
     ]
    }
   ],
   "source": [
    "team_counts=df['Team'].value_counts()\n",
    "print(team_counts)"
   ]
  },
  {
   "cell_type": "code",
   "execution_count": 119,
   "id": "3cf16eb7-c609-4b22-837a-6a02086e92c0",
   "metadata": {},
   "outputs": [
    {
     "data": {
      "text/plain": [
       "458"
      ]
     },
     "execution_count": 119,
     "metadata": {},
     "output_type": "execute_result"
    }
   ],
   "source": [
    "#total employees\n",
    "total_employees = len(df)\n",
    "total_employees"
   ]
  },
  {
   "cell_type": "code",
   "execution_count": 120,
   "id": "21800136-46bc-4431-b090-3bcd453867ce",
   "metadata": {},
   "outputs": [
    {
     "data": {
      "text/plain": [
       "Team\n",
       "New Orleans Pelicans      4.148472\n",
       "Memphis Grizzlies         3.930131\n",
       "Utah Jazz                 3.493450\n",
       "New York Knicks           3.493450\n",
       "Milwaukee Bucks           3.493450\n",
       "Brooklyn Nets             3.275109\n",
       "Portland Trail Blazers    3.275109\n",
       "Oklahoma City Thunder     3.275109\n",
       "Denver Nuggets            3.275109\n",
       "Washington Wizards        3.275109\n",
       "Miami Heat                3.275109\n",
       "Charlotte Hornets         3.275109\n",
       "Atlanta Hawks             3.275109\n",
       "San Antonio Spurs         3.275109\n",
       "Houston Rockets           3.275109\n",
       "Boston Celtics            3.275109\n",
       "Indiana Pacers            3.275109\n",
       "Detroit Pistons           3.275109\n",
       "Cleveland Cavaliers       3.275109\n",
       "Chicago Bulls             3.275109\n",
       "Sacramento Kings          3.275109\n",
       "Phoenix Suns              3.275109\n",
       "Los Angeles Lakers        3.275109\n",
       "Los Angeles Clippers      3.275109\n",
       "Golden State Warriors     3.275109\n",
       "Toronto Raptors           3.275109\n",
       "Philadelphia 76ers        3.275109\n",
       "Dallas Mavericks          3.275109\n",
       "Orlando Magic             3.056769\n",
       "Minnesota Timberwolves    3.056769\n",
       "Name: count, dtype: float64"
      ]
     },
     "execution_count": 120,
     "metadata": {},
     "output_type": "execute_result"
    }
   ],
   "source": [
    "df['Team'].value_counts()/len(df)*100"
   ]
  },
  {
   "cell_type": "code",
   "execution_count": 121,
   "id": "9d7a4c80-d2ac-4ada-9e77-614d5587070d",
   "metadata": {},
   "outputs": [
    {
     "data": {
      "image/png": "[encoded data removed]",
      "text/plain": [
       "<Figure size 640x480 with 1 Axes>"
      ]
     },
     "metadata": {},
     "output_type": "display_data"
    }
   ],
   "source": [
    "#visualize the data\n",
    "import matplotlib.pyplot as plt\n",
    "colors=['skyblue','lightgreen','coral','lightpink','lightblue']\n",
    "plt.bar(team_counts.index,team_counts.values,color=colors)\n",
    "# Customize the plot\n",
    "plt.xlabel('Team')\n",
    "plt.ylabel('Percentage')\n",
    "plt.title('Percentage Splitting of Employees w.r.t each Team')\n",
    "plt.xticks(rotation='vertical')\n",
    "plt.show()"
   ]
  },
  {
   "cell_type": "markdown",
   "id": "4cb5fad5-845e-4866-a185-466051260705",
   "metadata": {},
   "source": [
    "##### By analysing the above bar graph , it is clear that the team \"New Orleans Pelicans\" has more percentage split compared with other teams , Also there some identical pattern for some teams starting from \"Brooklyn Nets\" to \"Dallas Mavericks\"."
   ]
  },
  {
   "cell_type": "markdown",
   "id": "beb42953-4d04-4e6e-b0c0-db428cf42bad",
   "metadata": {},
   "source": [
    "### 2.Segregate the employees w.r.t different positions.\r"
   ]
  },
  {
   "cell_type": "code",
   "execution_count": 131,
   "id": "2c98121a-b6d7-49ab-980b-75e428a9e8b7",
   "metadata": {},
   "outputs": [
    {
     "data": {
      "text/plain": [
       "Position\n",
       "SG    102\n",
       "PF    100\n",
       "PG     92\n",
       "SF     85\n",
       "C      79\n",
       "Name: count, dtype: int64"
      ]
     },
     "execution_count": 131,
     "metadata": {},
     "output_type": "execute_result"
    }
   ],
   "source": [
    "\n",
    "position=df['Position'].value_counts()\n",
    "position\n"
   ]
  },
  {
   "cell_type": "code",
   "execution_count": 132,
   "id": "696b4249-8e8d-4d8f-95ca-9981c6f07f27",
   "metadata": {},
   "outputs": [
    {
     "data": {
      "text/plain": [
       "<pandas.core.groupby.generic.DataFrameGroupBy object at 0x00000193557F0150>"
      ]
     },
     "execution_count": 132,
     "metadata": {},
     "output_type": "execute_result"
    }
   ],
   "source": [
    "grouped_by_position = df.groupby('Position')\n",
    "grouped_by_position"
   ]
  },
  {
   "cell_type": "code",
   "execution_count": 133,
   "id": "9cb75455-f050-4a23-b692-3569157fd5d0",
   "metadata": {},
   "outputs": [
    {
     "name": "stdout",
     "output_type": "stream",
     "text": [
      "  Position                                               Name\n",
      "0        C  [Kelly Olynyk, Jared Sullinger, Tyler Zeller, ...\n",
      "1       PF  [Jonas Jerebko, Amir Johnson, Jordan Mickey, C...\n",
      "2       PG  [Avery Bradley, Terry Rozier, Marcus Smart, Is...\n",
      "3       SF  [Jae Crowder, Thanasis Antetokounmpo, Carmelo ...\n",
      "4       SG  [John Holland, R.J. Hunter, Evan Turner, James...\n"
     ]
    }
   ],
   "source": [
    "grouped_by_position = df.groupby('Position')['Name'].apply(list).reset_index()\n",
    "print(grouped_by_position)"
   ]
  },
  {
   "cell_type": "code",
   "execution_count": 135,
   "id": "15973bd4-5869-4430-8871-36a93fd0fcd9",
   "metadata": {},
   "outputs": [
    {
     "data": {
      "image/png": "[encoded data removed]",
      "text/plain": [
       "<Figure size 640x480 with 1 Axes>"
      ]
     },
     "metadata": {},
     "output_type": "display_data"
    }
   ],
   "source": [
    "#Visual Representation in the bar chart\n",
    "import matplotlib.pyplot as plt\n",
    "import pandas as pd\n",
    "colors=['skyblue','lightgreen','coral','lightpink','lightblue']\n",
    "plt.bar(position.index,position.values,color=colors)\n",
    "# Customize the plot\n",
    "plt.xlabel('Position')\n",
    "plt.ylabel('Number of Employees')\n",
    "plt.title('Employees based on different position')\n",
    "plt.xticks(rotation=0)\n",
    "plt.show()\n"
   ]
  },
  {
   "cell_type": "markdown",
   "id": "2e5df9b8-e495-4862-bc0b-7c3259b3a16f",
   "metadata": {},
   "source": [
    "##### From the above data, we can say that position 'SG' contains 100 employees which is highest number among others , and 'C' position contains the least number of employees"
   ]
  },
  {
   "cell_type": "markdown",
   "id": "5ec40d87-28d5-4a02-93d5-758a2da61956",
   "metadata": {},
   "source": [
    "### 3.Find from which age group most of the employees belong to."
   ]
  },
  {
   "cell_type": "code",
   "execution_count": 139,
   "id": "00eea829-99b7-4ea2-bd4d-15e8b89710a4",
   "metadata": {},
   "outputs": [
    {
     "data": {
      "text/plain": [
       "Age\n",
       "24    47\n",
       "25    46\n",
       "27    41\n",
       "23    41\n",
       "26    36\n",
       "28    31\n",
       "30    31\n",
       "29    28\n",
       "22    26\n",
       "31    22\n",
       "20    19\n",
       "21    19\n",
       "33    14\n",
       "32    13\n",
       "34    10\n",
       "36    10\n",
       "35     9\n",
       "37     4\n",
       "38     4\n",
       "40     3\n",
       "39     2\n",
       "19     2\n",
       "Name: count, dtype: int64"
      ]
     },
     "execution_count": 139,
     "metadata": {},
     "output_type": "execute_result"
    }
   ],
   "source": [
    "age = df['Age'].value_counts()\n",
    "age"
   ]
  },
  {
   "cell_type": "code",
   "execution_count": 138,
   "id": "c8ea7e53-39ab-46ac-92a2-d8e6691ac061",
   "metadata": {},
   "outputs": [
    {
     "data": {
      "image/png": "[encoded data removed]",
      "text/plain": [
       "<Figure size 640x480 with 1 Axes>"
      ]
     },
     "metadata": {},
     "output_type": "display_data"
    }
   ],
   "source": [
    "import matplotlib.pyplot as plt\n",
    "import pandas as pd\n",
    "df['Age Group'] = df['Age'].apply(lambda age:'20-25' if 20 <= age <= 25 else ('26-30' if 26 <= age <= 30 else ('31-35' if 31 <= age <= 35 else '36 and above')))\n",
    "df\n",
    "# Create a bar chartadf['Age Group'].value_counts()\n",
    "age_group_counts=df['Age Group'].value_counts()\n",
    "plt.hist(df['Age'],edgecolor='yellow')\n",
    "plt.title('Distribution of Age Groups')\n",
    "plt.xlabel('Age Group')\n",
    "plt.ylabel('Number of Individuals')\n",
    "plt.show()"
   ]
  },
  {
   "cell_type": "markdown",
   "id": "02214ce9-e516-4de9-862f-0e69e35463be",
   "metadata": {},
   "source": [
    "##### From the above histogram plot we can come at a point that, most of the employees are in the age group 20-30, and there is notebly a less number of employees in the age group of 40. Also there are number of employees of age 10-20 which is between both 20-30 and age 40 groups."
   ]
  },
  {
   "cell_type": "markdown",
   "id": "3fef6a14-d2f9-417f-b64c-71fe610b4518",
   "metadata": {},
   "source": [
    "### 4.Find out under which team and position, spending in terms of salary is high."
   ]
  },
  {
   "cell_type": "code",
   "execution_count": 140,
   "id": "c971814a-8737-48a3-8904-edba0c9f00e4",
   "metadata": {},
   "outputs": [
    {
     "data": {
      "image/png": "[encoded data removed]",
      "text/plain": [
       "<Figure size 640x480 with 1 Axes>"
      ]
     },
     "metadata": {},
     "output_type": "display_data"
    }
   ],
   "source": [
    "import matplotlib.pyplot as plt\n",
    "import pandas as pd\n",
    "spending_salary = df.groupby(['Team', 'Position'])['Salary'].sum()\n",
    "max_spending_combination = spending_salary.idxmax()\n",
    "max_team, max_position = max_spending_combination\n",
    "max_spending_df = df[(df['Team'] == max_team) & (df['Position'] == max_position)]\n",
    "sns.boxplot(x='Team',y='Salary',data=df,color='m')\n",
    "plt.title('Highest Spending on Salary by Team and Position')\n",
    "plt.xlabel('Team - Position')\n",
    "plt.ylabel('Total Salary')\n",
    "plt.show()"
   ]
  },
  {
   "cell_type": "markdown",
   "id": "3c19ae9b-88db-4ebc-bb7e-6fd04208e4e5",
   "metadata": {},
   "source": [
    "##### By plotting boxplot , The team 'Los Angels Lakers are spending more in terms of salary.\r\n",
    "\r\n"
   ]
  },
  {
   "cell_type": "markdown",
   "id": "1c10eb6a-b7e4-4a29-9190-6148ff23815a",
   "metadata": {},
   "source": [
    "### 5.Find if there is any correlation between age and salary , represent it visually."
   ]
  },
  {
   "cell_type": "code",
   "execution_count": null,
   "id": "0920a423-523f-4163-94c0-74746ec81811",
   "metadata": {},
   "outputs": [],
   "source": [
    "correlation = df['Salary'].corr(df['Age'])"
   ]
  },
  {
   "cell_type": "code",
   "execution_count": null,
   "id": "93c24e76-c2a9-479a-ab50-3927abfe530d",
   "metadata": {},
   "outputs": [],
   "source": [
    "print(\"The Correlation Between Salary And Age IS:\",correlation)"
   ]
  },
  {
   "cell_type": "code",
   "execution_count": 127,
   "id": "a1659237-7209-419a-a32f-01559df2a73e",
   "metadata": {},
   "outputs": [],
   "source": [
    "df['Age'] = pd.to_numeric(df['Age'], errors='coerce')\n",
    "df['Salary'] = pd.to_numeric(df['Salary'], errors='coerce')\n"
   ]
  },
  {
   "cell_type": "code",
   "execution_count": 126,
   "id": "d5d7fcfc-a1ae-4e16-b33a-7d91b47ab910",
   "metadata": {},
   "outputs": [
    {
     "data": {
      "image/png": "[encoded data removed]",
      "text/plain": [
       "<Figure size 640x480 with 2 Axes>"
      ]
     },
     "metadata": {},
     "output_type": "display_data"
    }
   ],
   "source": [
    "import matplotlib.pyplot as plt\n",
    "import pandas as pd\n",
    "import seaborn as sns\n",
    "color=sns.color_palette(\"magma\")\n",
    "sns.heatmap(data=df[['Age','Salary']].corr(),annot=True,cmap='inferno')\n",
    "plt.xlabel(\"Age\")\n",
    "plt.ylabel(\"Salary\")\n",
    "plt.grid()\n",
    "plt.title(\"Correlation Between Salary and Age\")\n",
    "plt.show()"
   ]
  },
  {
   "cell_type": "markdown",
   "id": "ab7da017-1bd7-42a9-be3c-c88e1c4b7cd5",
   "metadata": {},
   "source": [
    "#### By Heatmap as age of the employees increase , their salary is also increasing"
   ]
  },
  {
   "cell_type": "markdown",
   "id": "15aecd79-8848-4f3b-8d13-94f567234b61",
   "metadata": {},
   "source": [
    "### After analysing the above data the conclusion is :\n",
    "\n",
    "#### 1.'New Orleans Pelicans' has the highest number of employees in the Team is with respect to the other team.\n",
    "#### 2.The most number of employees are belongs to 'SG' Position, and least number of employees belongs to 'C' Position.\n",
    "#### 3.Most employees are belongs to the age group of 20 - 30 years, Least in 10-20.\n",
    "#### 4.The team 'Los Angels Lakers'and 'SF' Position are spending more in terms of salary.Clearly shown in max_salary_row we have calculated\n",
    "#### 5.The employees in the age group of 30-40 years have the highest salary, as the age increase the salary also increasing."
   ]
  },
  {
   "cell_type": "code",
   "execution_count": null,
   "id": "c2c63e95-7653-48e9-861c-b5f6b77692e4",
   "metadata": {},
   "outputs": [],
   "source": []
  },
  {
   "cell_type": "code",
   "execution_count": null,
   "id": "2107d3e5-9ad0-42ad-879b-0a00d534dc81",
   "metadata": {},
   "outputs": [],
   "source": []
  },
  {
   "cell_type": "code",
   "execution_count": null,
   "id": "c439ae8c-3ee4-424d-b27c-b84b75de7bd4",
   "metadata": {},
   "outputs": [],
   "source": []
  }
 ],
 "metadata": {
  "kernelspec": {
   "display_name": "Python 3 (ipykernel)",
   "language": "python",
   "name": "python3"
  },
  "language_info": {
   "codemirror_mode": {
    "name": "ipython",
    "version": 3
   },
   "file_extension": ".py",
   "mimetype": "text/x-python",
   "name": "python",
   "nbconvert_exporter": "python",
   "pygments_lexer": "ipython3",
   "version": "3.11.5"
  }
 },
 "nbformat": 4,
 "nbformat_minor": 5
}
